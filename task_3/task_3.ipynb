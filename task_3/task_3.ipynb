{
 "cells": [
  {
   "cell_type": "code",
   "execution_count": 44,
   "metadata": {},
   "outputs": [],
   "source": [
    "from tqdm import tqdm\n",
    "\n",
    "from utils import *"
   ]
  },
  {
   "cell_type": "code",
   "execution_count": 45,
   "metadata": {},
   "outputs": [],
   "source": [
    "SAMPLE_SIZE = 5000"
   ]
  },
  {
   "cell_type": "code",
   "execution_count": 46,
   "metadata": {},
   "outputs": [
    {
     "name": "stdout",
     "output_type": "stream",
     "text": [
      "Anna Karenina length: 1719443\n",
      "War And Peace RU length: 656402\n",
      "War And Peace EN length: 3112013\n"
     ]
    }
   ],
   "source": [
    "fix_all()\n",
    "karenina_str, warandpeace_ru_str, warandpeace_en_str = read_data()\n",
    "print(f'Anna Karenina length: {len(karenina_str)}')\n",
    "print(f'War And Peace RU length: {len(warandpeace_ru_str)}')\n",
    "print(f'War And Peace EN length: {len(warandpeace_en_str)}')"
   ]
  },
  {
   "cell_type": "markdown",
   "metadata": {},
   "source": [
    "## Часть 1 и 2. Декодирование сообщения путем подсчета статистик\n"
   ]
  },
  {
   "cell_type": "markdown",
   "metadata": {},
   "source": [
    "Код получился довольно большой, поэтому от помещен в отдельный файл"
   ]
  },
  {
   "cell_type": "code",
   "execution_count": 47,
   "metadata": {},
   "outputs": [
    {
     "name": "stdout",
     "output_type": "stream",
     "text": [
      "Score: 0.2734\n"
     ]
    }
   ],
   "source": [
    "karenina_freq = get_tokens_freq(karenina_str)\n",
    "karenina_sample = karenina_str[:SAMPLE_SIZE]\n",
    "encoded_text, decoded_text, score = compare_encodings(karenina_str, karenina_sample)\n",
    "print(f'Score: {score}')"
   ]
  },
  {
   "cell_type": "code",
   "execution_count": 48,
   "metadata": {},
   "outputs": [
    {
     "data": {
      "text/plain": [
       "'анна каренина один из самых знаменитых романов льва толстого начинается ставшей афоризмом фразой все'"
      ]
     },
     "execution_count": 48,
     "metadata": {},
     "output_type": "execute_result"
    }
   ],
   "source": [
    "karenina_sample[:100]"
   ]
  },
  {
   "cell_type": "code",
   "execution_count": 49,
   "metadata": {},
   "outputs": [
    {
     "data": {
      "text/plain": [
       "'иееи диваенеи омне ны тикуч ыеикаенсуч вокиеол рзли сортсожо еийнеиастг тсилюаь ифовныкок фвиыоь лта'"
      ]
     },
     "execution_count": 49,
     "metadata": {},
     "output_type": "execute_result"
    }
   ],
   "source": [
    "decoded_text[:100]"
   ]
  },
  {
   "cell_type": "code",
   "execution_count": 50,
   "metadata": {},
   "outputs": [
    {
     "name": "stdout",
     "output_type": "stream",
     "text": [
      "Score: 0.0524\n"
     ]
    }
   ],
   "source": [
    "karenina_tokens = get_ngrams(karenina_str, n=2)\n",
    "karenina_freq = get_tokens_freq(karenina_tokens).keys()\n",
    "karenina_sample = karenina_str[:SAMPLE_SIZE]\n",
    "encoded_text, decoded_text, score = compare_encodings(karenina_str, karenina_sample, n=2)\n",
    "print(f'Score: {score}')"
   ]
  },
  {
   "cell_type": "code",
   "execution_count": 51,
   "metadata": {},
   "outputs": [
    {
     "data": {
      "text/plain": [
       "'анна каренина один из самых знаменитых романов льва толстого начинается ставшей афоризмом фразой все'"
      ]
     },
     "execution_count": 51,
     "metadata": {},
     "output_type": "execute_result"
    }
   ],
   "source": [
    "karenina_sample[:100]"
   ]
  },
  {
   "cell_type": "code",
   "execution_count": 52,
   "metadata": {},
   "outputs": [
    {
     "data": {
      "text/plain": [
       "'новероащго у сг  доты з вон  килто з валетцого у сц овийтибыким етрымалю  дуав цсхвая т лсусисвзизся'"
      ]
     },
     "execution_count": 52,
     "metadata": {},
     "output_type": "execute_result"
    }
   ],
   "source": [
    "decoded_text[:100]"
   ]
  },
  {
   "cell_type": "markdown",
   "metadata": {},
   "source": [
    "Из результатов выше видно, что просто метод декодирования через подсчитывание частот не очень хорошо работает, т.к. только изредка можно с трудом распознать какие-то отдельные слова"
   ]
  },
  {
   "cell_type": "code",
   "execution_count": 53,
   "metadata": {},
   "outputs": [
    {
     "name": "stdout",
     "output_type": "stream",
     "text": [
      "Score: 0.2354\n"
     ]
    }
   ],
   "source": [
    "warandpeace_en_freq = get_tokens_freq(warandpeace_en_str).keys()\n",
    "warandpeace_en_sample = warandpeace_en_str[:SAMPLE_SIZE]\n",
    "encoded_text, decoded_text, score = compare_encodings(warandpeace_en_str, warandpeace_en_sample)\n",
    "print(f'Score: {score}')"
   ]
  },
  {
   "cell_type": "code",
   "execution_count": 54,
   "metadata": {},
   "outputs": [
    {
     "data": {
      "text/plain": [
       "'the project gutenberg ebook of war and peace by leo tolstoy  this ebook is for the use of anyone any'"
      ]
     },
     "execution_count": 54,
     "metadata": {},
     "output_type": "execute_result"
    }
   ],
   "source": [
    "warandpeace_en_sample[:100]"
   ]
  },
  {
   "cell_type": "code",
   "execution_count": 55,
   "metadata": {},
   "outputs": [
    {
     "data": {
      "text/plain": [
       "'ait snljtha pgatuctnp tcllf lk bon ouy stoht cv wtl alwmalv  aiem tcllf em kln ait gmt lk ouvlut ouv'"
      ]
     },
     "execution_count": 55,
     "metadata": {},
     "output_type": "execute_result"
    }
   ],
   "source": [
    "decoded_text[:100]"
   ]
  },
  {
   "cell_type": "code",
   "execution_count": 56,
   "metadata": {},
   "outputs": [
    {
     "name": "stdout",
     "output_type": "stream",
     "text": [
      "Score: 0.0912\n"
     ]
    }
   ],
   "source": [
    "warandpeace_en_tokens = get_ngrams(warandpeace_en_str, n=2)\n",
    "warandpeace_en_freq = get_tokens_freq(warandpeace_en_tokens).keys()\n",
    "warandpeace_en_sample = warandpeace_en_str[:SAMPLE_SIZE]\n",
    "encoded_text, decoded_text, score = compare_encodings(warandpeace_en_str, warandpeace_en_sample, n=2)\n",
    "print(f'Score: {score}')"
   ]
  },
  {
   "cell_type": "code",
   "execution_count": 57,
   "metadata": {},
   "outputs": [
    {
     "data": {
      "text/plain": [
       "'the project gutenberg ebook of war and peace by leo tolstoy  this ebook is for the use of anyone any'"
      ]
     },
     "execution_count": 57,
     "metadata": {},
     "output_type": "execute_result"
    }
   ],
   "source": [
    "warandpeace_en_sample[:100]"
   ]
  },
  {
   "cell_type": "code",
   "execution_count": 58,
   "metadata": {},
   "outputs": [
    {
     "data": {
      "text/plain": [
       "'lleeovce dbll inevosnsi aymatudrivs do yrihobeurcabuadfo asieavet t s anheomprutmoulncsenim h nt oon'"
      ]
     },
     "execution_count": 58,
     "metadata": {},
     "output_type": "execute_result"
    }
   ],
   "source": [
    "decoded_text[:100]"
   ]
  },
  {
   "cell_type": "markdown",
   "metadata": {},
   "source": [
    "Аналогичный результат получился и для тектсов на английском языке"
   ]
  },
  {
   "cell_type": "code",
   "execution_count": 59,
   "metadata": {},
   "outputs": [
    {
     "name": "stdout",
     "output_type": "stream",
     "text": [
      "Score: 0.5174\n"
     ]
    }
   ],
   "source": [
    "warandpeace_ru_freq = get_tokens_freq(warandpeace_ru_str).keys()\n",
    "warandpeace_ru_sample = warandpeace_ru_str[:SAMPLE_SIZE]\n",
    "encoded_text, decoded_text, score = compare_encodings(warandpeace_ru_str, warandpeace_ru_sample)\n",
    "print(f'Score: {score}')"
   ]
  },
  {
   "cell_type": "code",
   "execution_count": 60,
   "metadata": {},
   "outputs": [
    {
     "data": {
      "text/plain": [
       "'война и мир  самый известный роман льва николаевича толстого как никакое другое произведение писател'"
      ]
     },
     "execution_count": 60,
     "metadata": {},
     "output_type": "execute_result"
    }
   ],
   "source": [
    "warandpeace_ru_sample[:100]"
   ]
  },
  {
   "cell_type": "code",
   "execution_count": 61,
   "metadata": {},
   "outputs": [
    {
     "data": {
      "text/plain": [
       "'сойне и див  ледгй иьсалтнгй воден рзсе никореасиые торлтобо кек никекоа мвпбоа увоиьсаманиа уилетар'"
      ]
     },
     "execution_count": 61,
     "metadata": {},
     "output_type": "execute_result"
    }
   ],
   "source": [
    "decoded_text[:100]"
   ]
  },
  {
   "cell_type": "code",
   "execution_count": 62,
   "metadata": {},
   "outputs": [
    {
     "name": "stdout",
     "output_type": "stream",
     "text": [
      "Score: 0.0534\n"
     ]
    }
   ],
   "source": [
    "warandpeace_ru_tokens = get_ngrams(warandpeace_ru_str, n=2)\n",
    "warandpeace_ru_freq = get_tokens_freq(warandpeace_ru_tokens).keys()\n",
    "warandpeace_ru_sample = warandpeace_ru_str[SAMPLE_SIZE:2*SAMPLE_SIZE]\n",
    "encoded_text, decoded_text, score = compare_encodings(warandpeace_ru_str, warandpeace_ru_sample, n=2)\n",
    "print(f'Score: {score}')"
   ]
  },
  {
   "cell_type": "code",
   "execution_count": 63,
   "metadata": {},
   "outputs": [
    {
     "data": {
      "text/plain": [
       "'онапарте непобедим и что вся европа ничего не может против него и я не верю ни в одном слове ни гард'"
      ]
     },
     "execution_count": 63,
     "metadata": {},
     "output_type": "execute_result"
    }
   ],
   "source": [
    "warandpeace_ru_sample[:100]"
   ]
  },
  {
   "cell_type": "code",
   "execution_count": 64,
   "metadata": {},
   "outputs": [
    {
     "data": {
      "text/plain": [
       "'начттоекибголяй  яуздьббу ве с лсттьержаущвмраиз шхмев сицолаеяхтыынтаоу как норрори мти в пи ене ря'"
      ]
     },
     "execution_count": 64,
     "metadata": {},
     "output_type": "execute_result"
    }
   ],
   "source": [
    "decoded_text[:100]"
   ]
  },
  {
   "cell_type": "markdown",
   "metadata": {},
   "source": [
    "В результатах выше для токенов длины 1 получился относительно неплохой результат, но декодирование по токенам длинны 2 стабильно показывает результат хуже, чем декодирование по токенам длины 1. Думаю, что это связано с тем, что вариаций токенов длины 2 больше чем токенов длины 1, и отследить частотные закономерности для таких токенов сложнее"
   ]
  },
  {
   "cell_type": "markdown",
   "metadata": {},
   "source": [
    "## Часть 3. Построение модели MCMC"
   ]
  },
  {
   "cell_type": "code",
   "execution_count": 65,
   "metadata": {},
   "outputs": [],
   "source": [
    "SAMPLE_SIZE = 1000"
   ]
  },
  {
   "cell_type": "code",
   "execution_count": 103,
   "metadata": {},
   "outputs": [
    {
     "name": "stderr",
     "output_type": "stream",
     "text": [
      "100%|██████████| 10000/10000 [00:14<00:00, 695.86it/s, Accuracy: 0.41]\n"
     ]
    }
   ],
   "source": [
    "karenina_sample = karenina_str[:1000]\n",
    "karenina_freq = get_tokens_freq(get_ngrams(karenina_str, 2), dens=True)\n",
    "encoded_text = encode_text(karenina_sample, n=1)\n",
    "mcmc_model = MCMCModel(karenina_freq, n=1, encoded_sample=encoded_text)\n",
    "decoded_text = mcmc_model.fit(encoded_text, \n",
    "    n=2, \n",
    "    n_iter=10000,\n",
    "    sample=karenina_sample\n",
    ")"
   ]
  },
  {
   "cell_type": "code",
   "execution_count": 104,
   "metadata": {},
   "outputs": [
    {
     "data": {
      "text/plain": [
       "'леел млкнесел обсе сж илдря желднестря кодлеов уавл тоуитого елчселнтиь итлвхню лфоксждод фклжою вин'"
      ]
     },
     "execution_count": 104,
     "metadata": {},
     "output_type": "execute_result"
    }
   ],
   "source": [
    "mcmc_model.transform(encoded_text)[:100]"
   ]
  },
  {
   "cell_type": "code",
   "execution_count": 68,
   "metadata": {},
   "outputs": [
    {
     "data": {
      "text/plain": [
       "'анна каренина один из самых знаменитых романов льва толстого начинается ставшей афоризмом фразой все'"
      ]
     },
     "execution_count": 68,
     "metadata": {},
     "output_type": "execute_result"
    }
   ],
   "source": [
    "karenina_sample[:100]"
   ]
  },
  {
   "cell_type": "markdown",
   "metadata": {},
   "source": [
    "Из результатов выше видно, что получить хорошее декодирование не получилось, хоть результат и лучше того, что получилось в части 1. Тестировал несколько раз, получить accuracy больше 0.5 не вышло"
   ]
  },
  {
   "cell_type": "code",
   "execution_count": 111,
   "metadata": {},
   "outputs": [
    {
     "name": "stderr",
     "output_type": "stream",
     "text": [
      "100%|██████████| 10000/10000 [03:02<00:00, 54.79it/s, Accuracy: 0.44]\n"
     ]
    }
   ],
   "source": [
    "warandpeace_en_sample = warandpeace_en_str[:15000]\n",
    "warandpeace_en_freq = get_tokens_freq(get_ngrams(warandpeace_en_str, 2), dens=True)\n",
    "encoded_text = encode_text(warandpeace_en_sample, n=1)\n",
    "mcmc_model = MCMCModel(warandpeace_en_freq, n=1, encoded_sample=encoded_text)\n",
    "decoded_text = mcmc_model.fit(encoded_text,\n",
    "    n=2, \n",
    "    n_iter=10000,\n",
    "    sample=warandpeace_en_sample\n",
    ")"
   ]
  },
  {
   "cell_type": "code",
   "execution_count": 112,
   "metadata": {},
   "outputs": [
    {
     "data": {
      "text/plain": [
       "'teo nrijoht kgtolwork owiiz iv bar ald noaho wy poi tipftiy  tesf owiiz sf vir teo gfo iv alyilo aly'"
      ]
     },
     "execution_count": 112,
     "metadata": {},
     "output_type": "execute_result"
    }
   ],
   "source": [
    "mcmc_model.transform(encoded_text)[:100]"
   ]
  },
  {
   "cell_type": "code",
   "execution_count": 75,
   "metadata": {},
   "outputs": [
    {
     "data": {
      "text/plain": [
       "'the project gutenberg ebook of war and peace by leo tolstoy  this ebook is for the use of anyone any'"
      ]
     },
     "execution_count": 75,
     "metadata": {},
     "output_type": "execute_result"
    }
   ],
   "source": [
    "warandpeace_en_sample[:100]"
   ]
  },
  {
   "cell_type": "markdown",
   "metadata": {},
   "source": [
    "Для примера выше результат получился аналогично результату пиз первого примера, хотя это все еще лучше обычного частотного метода"
   ]
  },
  {
   "cell_type": "code",
   "execution_count": 113,
   "metadata": {},
   "outputs": [
    {
     "name": "stderr",
     "output_type": "stream",
     "text": [
      "100%|██████████| 10000/10000 [00:14<00:00, 694.30it/s, Accuracy: 0.72]\n"
     ]
    }
   ],
   "source": [
    "warandpeace_ru_sample = warandpeace_ru_str[:1000]\n",
    "warandpeace_ru_freq = get_tokens_freq(get_ngrams(warandpeace_ru_str, 2), dens=True)\n",
    "encoded_text = encode_text(warandpeace_ru_sample, n=1)\n",
    "mcmc_model = MCMCModel(warandpeace_ru_freq, n=1, encoded_sample=encoded_text)\n",
    "decoded_text = mcmc_model.fit(encoded_text,\n",
    "    n=2, \n",
    "    n_iter=10000,\n",
    "    sample=warandpeace_ru_sample\n",
    ")"
   ]
  },
  {
   "cell_type": "code",
   "execution_count": 114,
   "metadata": {},
   "outputs": [
    {
     "data": {
      "text/plain": [
       "'нойла и мир  вамый ишневслый ромал дтна ликодаениза содвсобо как ликакое чрубое проишнечелие пивасед'"
      ]
     },
     "execution_count": 114,
     "metadata": {},
     "output_type": "execute_result"
    }
   ],
   "source": [
    "''.join(decoded_text)[:100]"
   ]
  },
  {
   "cell_type": "code",
   "execution_count": 78,
   "metadata": {},
   "outputs": [
    {
     "data": {
      "text/plain": [
       "'война и мир  самый известный роман льва николаевича толстого как никакое другое произведение писател'"
      ]
     },
     "execution_count": 78,
     "metadata": {},
     "output_type": "execute_result"
    }
   ],
   "source": [
    "warandpeace_ru_sample[:100]"
   ]
  },
  {
   "cell_type": "markdown",
   "metadata": {},
   "source": [
    "Этот пример получился достаточно удачным. Пришлось несколько раз запускать метод, чтобы получить относительно высокий скорр. Также видно, что многи слова достаточно легко угадываются после декодирования"
   ]
  },
  {
   "cell_type": "markdown",
   "metadata": {},
   "source": [
    "## Часть 4. Декодирование зашифрованного сообщения"
   ]
  },
  {
   "cell_type": "code",
   "execution_count": 80,
   "metadata": {},
   "outputs": [],
   "source": [
    "ENCODED_MSG_1 = '←⇠⇒↟↹↷⇊↹↷↟↤↟↨←↹↝⇛⇯↳⇴⇒⇈↝⇊↾↹↟⇒↟↹⇷⇛⇞↨↟↹↝⇛⇯↳⇴⇒⇈↝⇊↾↹↨←⇌⇠↨↹⇙↹⇸↨⇛↙⇛↹⇠⇛⇛↲⇆←↝↟↞↹⇌⇛↨⇛⇯⇊↾↹⇒←↙⇌⇛↹⇷⇯⇛⇞↟↨⇴↨⇈↹⇠⇌⇛⇯←←↹↷⇠←↙⇛↹↷⇊↹↷⇠←↹⇠↤←⇒⇴⇒↟↹⇷⇯⇴↷↟⇒⇈↝⇛↹↟↹⇷⇛⇒⇙⇞↟↨←↹↳⇴⇌⇠↟↳⇴⇒⇈↝⇊↾↹↲⇴⇒⇒↹⇰⇴↹⇷⇛⇠⇒←↤↝←←↹⇞←↨↷←⇯↨⇛←↹⇰⇴↤⇴↝↟←↹⇌⇙⇯⇠⇴↹↘⇛↨↞↹⇌⇛↝←⇞↝⇛↹↞↹↝↟⇞←↙⇛↹↝←↹⇛↲←⇆⇴⇏'"
   ]
  },
  {
   "cell_type": "code",
   "execution_count": 93,
   "metadata": {},
   "outputs": [
    {
     "name": "stderr",
     "output_type": "stream",
     "text": [
      "100%|██████████| 150000/150000 [00:51<00:00, 2890.14it/s]\n"
     ]
    }
   ],
   "source": [
    "warandpeace_ru_sample = warandpeace_ru_str[:1000]\n",
    "warandpeace_ru_freq = get_tokens_freq(get_ngrams(warandpeace_ru_str, 2), dens=True)\n",
    "mcmc_model = MCMCModel(warandpeace_ru_freq, n=1, encoded_sample=ENCODED_MSG_1)\n",
    "encoded_text = ENCODED_MSG_1\n",
    "decoded_text = mcmc_model.fit(encoded_text,\n",
    "    n=2, \n",
    "    n_iter=150000\n",
    ")"
   ]
  },
  {
   "cell_type": "code",
   "execution_count": 94,
   "metadata": {},
   "outputs": [
    {
     "data": {
      "text/plain": [
       "'если ву вичите норкальную или помти норкальную тедст ы этого сообщения доторую легдо промитать сдорее всего ву все счелали правильно и полымите кадсикальную балл за послечнее метвертое зачание дырса хотя донемно я нимего не обещаш'"
      ]
     },
     "execution_count": 94,
     "metadata": {},
     "output_type": "execute_result"
    }
   ],
   "source": [
    "''.join(decoded_text)"
   ]
  },
  {
   "cell_type": "markdown",
   "metadata": {},
   "source": [
    "Сообщение выше получилось расшировать достаточно неплохо на мой взгляд. Основная сложность при расшифровывании, да и при выполнении всего задания заключалась в том, что приходилось несколько раз перезапускать алгоритм и ловить удачные сэмплы"
   ]
  },
  {
   "cell_type": "markdown",
   "metadata": {},
   "source": []
  }
 ],
 "metadata": {
  "interpreter": {
   "hash": "28a0d3c5992644907880f77c2e95ee47d6c9c4b93b2d7adc520f37143b16d1fc"
  },
  "kernelspec": {
   "display_name": "Python 3.8.12 ('ml_env')",
   "language": "python",
   "name": "python3"
  },
  "language_info": {
   "codemirror_mode": {
    "name": "ipython",
    "version": 3
   },
   "file_extension": ".py",
   "mimetype": "text/x-python",
   "name": "python",
   "nbconvert_exporter": "python",
   "pygments_lexer": "ipython3",
   "version": "3.8.12"
  },
  "orig_nbformat": 4
 },
 "nbformat": 4,
 "nbformat_minor": 2
}
